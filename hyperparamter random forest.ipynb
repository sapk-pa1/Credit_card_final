{
 "cells": [
  {
   "cell_type": "code",
   "execution_count": 1,
   "id": "b4ef3138",
   "metadata": {
    "_cell_guid": "b1076dfc-b9ad-4769-8c92-a6c4dae69d19",
    "_uuid": "8f2839f25d086af736a60e9eeb907d3b93b6e0e5",
    "execution": {
     "iopub.execute_input": "2023-06-16T18:20:36.512372Z",
     "iopub.status.busy": "2023-06-16T18:20:36.511756Z",
     "iopub.status.idle": "2023-06-16T18:20:36.528717Z",
     "shell.execute_reply": "2023-06-16T18:20:36.527962Z"
    },
    "papermill": {
     "duration": 0.024684,
     "end_time": "2023-06-16T18:20:36.531325",
     "exception": false,
     "start_time": "2023-06-16T18:20:36.506641",
     "status": "completed"
    },
    "tags": []
   },
   "outputs": [
    {
     "name": "stdout",
     "output_type": "stream",
     "text": [
      "/kaggle/input/creditcardfraud/creditcard.csv\n"
     ]
    }
   ],
   "source": [
    "# This Python 3 environment comes with many helpful analytics libraries installed\n",
    "# It is defined by the kaggle/python Docker image: https://github.com/kaggle/docker-python\n",
    "# For example, here's several helpful packages to load\n",
    "\n",
    "import numpy as np # linear algebra\n",
    "import pandas as pd # data processing, CSV file I/O (e.g. pd.read_csv)\n",
    "\n",
    "# Input data files are available in the read-only \"../input/\" directory\n",
    "# For example, running this (by clicking run or pressing Shift+Enter) will list all files under the input directory\n",
    "\n",
    "import os\n",
    "for dirname, _, filenames in os.walk('/kaggle/input'):\n",
    "    for filename in filenames:\n",
    "        print(os.path.join(dirname, filename))\n",
    "\n",
    "# You can write up to 20GB to the current directory (/kaggle/working/) that gets preserved as output when you create a version using \"Save & Run All\" \n",
    "# You can also write temporary files to /kaggle/temp/, but they won't be saved outside of the current session"
   ]
  },
  {
   "cell_type": "code",
   "execution_count": 2,
   "id": "01bd3488",
   "metadata": {
    "execution": {
     "iopub.execute_input": "2023-06-16T18:20:36.546403Z",
     "iopub.status.busy": "2023-06-16T18:20:36.545976Z",
     "iopub.status.idle": "2023-06-16T18:20:38.495686Z",
     "shell.execute_reply": "2023-06-16T18:20:38.494401Z"
    },
    "papermill": {
     "duration": 1.962044,
     "end_time": "2023-06-16T18:20:38.497888",
     "exception": false,
     "start_time": "2023-06-16T18:20:36.535844",
     "status": "completed"
    },
    "tags": []
   },
   "outputs": [],
   "source": [
    "import pandas as pd \n",
    "from sklearn.model_selection import train_test_split \n",
    "from sklearn.ensemble import RandomForestClassifier\n",
    "from sklearn.metrics import precision_recall_curve , auc , classification_report \n",
    "from sklearn.metrics import make_scorer, average_precision_score\n",
    "from scipy.stats import randint\n",
    "from sklearn.model_selection import RandomizedSearchCV\n",
    "from imblearn.over_sampling import SMOTE "
   ]
  },
  {
   "cell_type": "code",
   "execution_count": 3,
   "id": "8130807b",
   "metadata": {
    "execution": {
     "iopub.execute_input": "2023-06-16T18:20:38.505074Z",
     "iopub.status.busy": "2023-06-16T18:20:38.504657Z",
     "iopub.status.idle": "2023-06-16T18:20:38.508773Z",
     "shell.execute_reply": "2023-06-16T18:20:38.507947Z"
    },
    "papermill": {
     "duration": 0.009665,
     "end_time": "2023-06-16T18:20:38.510404",
     "exception": false,
     "start_time": "2023-06-16T18:20:38.500739",
     "status": "completed"
    },
    "tags": []
   },
   "outputs": [],
   "source": [
    "path = '/kaggle/input/creditcardfraud/creditcard.csv'\n"
   ]
  },
  {
   "cell_type": "code",
   "execution_count": 4,
   "id": "cc775869",
   "metadata": {
    "execution": {
     "iopub.execute_input": "2023-06-16T18:20:38.517462Z",
     "iopub.status.busy": "2023-06-16T18:20:38.517127Z",
     "iopub.status.idle": "2023-06-16T18:20:41.383166Z",
     "shell.execute_reply": "2023-06-16T18:20:41.381911Z"
    },
    "papermill": {
     "duration": 2.872493,
     "end_time": "2023-06-16T18:20:41.385742",
     "exception": false,
     "start_time": "2023-06-16T18:20:38.513249",
     "status": "completed"
    },
    "tags": []
   },
   "outputs": [],
   "source": [
    "\n",
    "credit_card = pd.read_csv(path)\n",
    "X= credit_card.drop(\"Class\", axis = 1)\n",
    "y = credit_card[\"Class\"]"
   ]
  },
  {
   "cell_type": "code",
   "execution_count": 5,
   "id": "8b6f12c8",
   "metadata": {
    "execution": {
     "iopub.execute_input": "2023-06-16T18:20:41.392921Z",
     "iopub.status.busy": "2023-06-16T18:20:41.392573Z",
     "iopub.status.idle": "2023-06-16T18:20:41.482492Z",
     "shell.execute_reply": "2023-06-16T18:20:41.481376Z"
    },
    "papermill": {
     "duration": 0.096238,
     "end_time": "2023-06-16T18:20:41.484933",
     "exception": false,
     "start_time": "2023-06-16T18:20:41.388695",
     "status": "completed"
    },
    "tags": []
   },
   "outputs": [],
   "source": [
    "X_train , X_test, y_train , y_test = train_test_split(X,y, test_size=0.4, random_state = 42)\n"
   ]
  },
  {
   "cell_type": "code",
   "execution_count": 6,
   "id": "1db070f0",
   "metadata": {
    "execution": {
     "iopub.execute_input": "2023-06-16T18:20:41.492484Z",
     "iopub.status.busy": "2023-06-16T18:20:41.492161Z",
     "iopub.status.idle": "2023-06-16T18:20:41.622032Z",
     "shell.execute_reply": "2023-06-16T18:20:41.621121Z"
    },
    "papermill": {
     "duration": 0.136523,
     "end_time": "2023-06-16T18:20:41.624380",
     "exception": false,
     "start_time": "2023-06-16T18:20:41.487857",
     "status": "completed"
    },
    "tags": []
   },
   "outputs": [],
   "source": [
    "smote = SMOTE(sampling_strategy = {1: 20000})\n",
    "X_resampled , y_resampled = smote.fit_resample(X_train, y_train)"
   ]
  },
  {
   "cell_type": "code",
   "execution_count": 7,
   "id": "640728ca",
   "metadata": {
    "execution": {
     "iopub.execute_input": "2023-06-16T18:20:41.632293Z",
     "iopub.status.busy": "2023-06-16T18:20:41.631938Z",
     "iopub.status.idle": "2023-06-16T18:20:41.639420Z",
     "shell.execute_reply": "2023-06-16T18:20:41.638189Z"
    },
    "papermill": {
     "duration": 0.013561,
     "end_time": "2023-06-16T18:20:41.641228",
     "exception": false,
     "start_time": "2023-06-16T18:20:41.627667",
     "status": "completed"
    },
    "tags": []
   },
   "outputs": [
    {
     "data": {
      "text/plain": [
       "((190583, 30), (190583,))"
      ]
     },
     "execution_count": 7,
     "metadata": {},
     "output_type": "execute_result"
    }
   ],
   "source": [
    "X_resampled.shape, y_resampled.shape"
   ]
  },
  {
   "cell_type": "code",
   "execution_count": 8,
   "id": "61a62545",
   "metadata": {
    "execution": {
     "iopub.execute_input": "2023-06-16T18:20:41.648170Z",
     "iopub.status.busy": "2023-06-16T18:20:41.647817Z",
     "iopub.status.idle": "2023-06-16T18:20:41.653433Z",
     "shell.execute_reply": "2023-06-16T18:20:41.652451Z"
    },
    "papermill": {
     "duration": 0.011138,
     "end_time": "2023-06-16T18:20:41.655274",
     "exception": false,
     "start_time": "2023-06-16T18:20:41.644136",
     "status": "completed"
    },
    "tags": []
   },
   "outputs": [],
   "source": [
    "# Create a Random Forest classifier\n",
    "rf_classifier = RandomForestClassifier()\n",
    "# Define the custom scoring function\n",
    "def auprc_score(y_true, y_proba):\n",
    "    precision, recall, _ = precision_recall_curve(y_true, y_proba)\n",
    "    return auc(recall, precision)\n",
    "custom_scorer = make_scorer(auprc_score, greater_is_better=True ,needs_proba=True)\n"
   ]
  },
  {
   "cell_type": "code",
   "execution_count": 9,
   "id": "640090f1",
   "metadata": {
    "execution": {
     "iopub.execute_input": "2023-06-16T18:20:41.662301Z",
     "iopub.status.busy": "2023-06-16T18:20:41.661977Z",
     "iopub.status.idle": "2023-06-17T03:34:58.131412Z",
     "shell.execute_reply": "2023-06-17T03:34:58.130549Z"
    },
    "papermill": {
     "duration": 33256.477821,
     "end_time": "2023-06-17T03:34:58.136093",
     "exception": false,
     "start_time": "2023-06-16T18:20:41.658272",
     "status": "completed"
    },
    "tags": []
   },
   "outputs": [
    {
     "name": "stdout",
     "output_type": "stream",
     "text": [
      "Best Parameters: {'bootstrap': True, 'max_depth': 19, 'max_features': 'log2', 'min_samples_leaf': 3, 'min_samples_split': 5, 'n_estimators': 666}\n",
      "Best Score: 0.9997859175997462\n"
     ]
    }
   ],
   "source": [
    "\n",
    "# Define the hyperparameter search space\n",
    "param_dist = {\n",
    "    'n_estimators': randint(100, 1000),  # Random integer values between 100 and 1000\n",
    "    'max_depth': randint(5, 20),          # Random integer values between 5 and 20\n",
    "    'min_samples_split': randint(2, 10),  # Random integer values between 2 and 10\n",
    "    'min_samples_leaf': randint(1, 10),   # Random integer values between 1 and 10\n",
    "    'max_features': ['sqrt', 'log2'],     # List of options to choose from\n",
    "    'bootstrap': [True, False]            # List of options to choose from\n",
    "}\n",
    "\n",
    "# Create a RandomizedSearchCV object\n",
    "random_search = RandomizedSearchCV(\n",
    "    estimator=rf_classifier,\n",
    "    param_distributions=param_dist,\n",
    "    n_iter=10,  # Number of parameter settings to sample\n",
    "    cv=5,       # Number of cross-validation folds\n",
    "    scoring=custom_scorer,  # Evaluation metric\n",
    "    random_state=42      # Random state for reproducibility\n",
    ")\n",
    "\n",
    "# Perform the random search\n",
    "random_search.fit(X_resampled, y_resampled)\n",
    "\n",
    "# Print the best parameters and best score\n",
    "print(\"Best Parameters:\", random_search.best_params_)\n",
    "print(\"Best Score:\", random_search.best_score_)\n"
   ]
  },
  {
   "cell_type": "code",
   "execution_count": null,
   "id": "58966680",
   "metadata": {
    "papermill": {
     "duration": 0.002545,
     "end_time": "2023-06-17T03:34:58.141359",
     "exception": false,
     "start_time": "2023-06-17T03:34:58.138814",
     "status": "completed"
    },
    "tags": []
   },
   "outputs": [],
   "source": []
  }
 ],
 "metadata": {
  "kernelspec": {
   "display_name": "Python 3",
   "language": "python",
   "name": "python3"
  },
  "language_info": {
   "codemirror_mode": {
    "name": "ipython",
    "version": 3
   },
   "file_extension": ".py",
   "mimetype": "text/x-python",
   "name": "python",
   "nbconvert_exporter": "python",
   "pygments_lexer": "ipython3",
   "version": "3.10.10"
  },
  "papermill": {
   "default_parameters": {},
   "duration": 33271.794429,
   "end_time": "2023-06-17T03:34:59.110573",
   "environment_variables": {},
   "exception": null,
   "input_path": "__notebook__.ipynb",
   "output_path": "__notebook__.ipynb",
   "parameters": {},
   "start_time": "2023-06-16T18:20:27.316144",
   "version": "2.4.0"
  }
 },
 "nbformat": 4,
 "nbformat_minor": 5
}
